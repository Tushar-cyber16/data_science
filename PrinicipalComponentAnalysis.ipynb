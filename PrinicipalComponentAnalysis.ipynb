{
 "cells": [
  {
   "cell_type": "markdown",
   "metadata": {},
   "source": [
    "# Data Science Lab-7\n",
    "### Karthik Bommaraju\n",
    "### 207166\n",
    "### Section-B"
   ]
  },
  {
   "cell_type": "markdown",
   "metadata": {},
   "source": [
    "## Q1-1. Principal Component Analysis"
   ]
  },
  {
   "cell_type": "code",
   "execution_count": 2,
   "metadata": {
    "ExecuteTime": {
     "end_time": "2023-04-16T16:42:50.485106Z",
     "start_time": "2023-04-16T16:42:48.130313Z"
    }
   },
   "outputs": [],
   "source": [
    "import matplotlib.pyplot as plt\n",
    "import numpy as np\n",
    "import pandas as pd\n",
    "from sklearn.datasets import load_iris"
   ]
  },
  {
   "cell_type": "code",
   "execution_count": 15,
   "metadata": {
    "ExecuteTime": {
     "end_time": "2023-04-16T16:42:50.500375Z",
     "start_time": "2023-04-16T16:42:50.497850Z"
    }
   },
   "outputs": [],
   "source": [
    "class PrincipalComponentAnalysis:\n",
    "    def __init__(self, n_components):\n",
    "        self.cov_ = None\n",
    "        self.values_ = None\n",
    "        self.vectors_ = None\n",
    "        self.n_features_ = None\n",
    "        self.n_samples_ = None\n",
    "        self.final_data_ = None\n",
    "        self.mean_ = None\n",
    "        self.std_ = None\n",
    "        self.ev=None\n",
    "        self.n_components_ = n_components\n",
    "\n",
    "    def normalize(self, X):\n",
    "        self.mean_ = np.mean(X, axis=0)\n",
    "        self.std_ = np.std(X, axis=0)\n",
    "        return (X - self.mean_) / self.std_\n",
    "\n",
    "    def fit_transform(self, X):\n",
    "        self.n_samples_ = X.shape[0]\n",
    "        self.n_features_ = X.shape[1]\n",
    "        X_norm = self.normalize(X)\n",
    "        self.cov_ = np.cov(X_norm.T)\n",
    "        self.ev = np.linalg.eig(self.cov_)\n",
    "        topEig = self.ev[1][:,0:self.n_components_]\n",
    "        self.final_data_ = X_norm @ topEig\n",
    "#         self.values_, self.vectors_ = np.linalg.eig(self.cov_)\n",
    "#         combined = dict(zip(self.values_, self.vectors_.T))\n",
    "#         self.values_ = np.sort(self.values_)[::-1]\n",
    "#         combined = {i: combined[i] for i in self.values_}\n",
    "#         row_feature_vector = np.array(list(combined.values())[:self.n_components_])\n",
    "#         self.final_data_ = (row_feature_vector @ X_norm.T).T\n",
    "        return self.final_data_\n",
    "\n",
    "    def plot(self, y):\n",
    "        df = pd.DataFrame(np.hstack( ( self.final_data_, y.reshape(-1, 1)) ) )\n",
    "        class_0 = df[df[2] == 0].values\n",
    "        class_1 = df[df[2] == 1].values\n",
    "        class_2 = df[df[2] == 2].values\n",
    "        plt.scatter(x=class_0[:,0], y=class_0[:,1], color='red')\n",
    "        plt.scatter(x=class_1[:,0], y=class_1[:,1], color='green')\n",
    "        plt.scatter(x=class_2[:,0], y=class_2[:,1], color='blue')\n",
    "        txt = \"Red - Class 0\\nGreen - Class 1\\nBlue - Class 2\"\n",
    "        plt.figtext(0.4, -0.1, txt, wrap=True, horizontalalignment='left', fontsize=12)\n",
    "        plt.show()"
   ]
  },
  {
   "cell_type": "code",
   "execution_count": 16,
   "metadata": {
    "ExecuteTime": {
     "end_time": "2023-04-16T16:42:50.523220Z",
     "start_time": "2023-04-16T16:42:50.501380Z"
    }
   },
   "outputs": [],
   "source": [
    "X, y = load_iris(return_X_y=True)"
   ]
  },
  {
   "cell_type": "code",
   "execution_count": 17,
   "metadata": {
    "ExecuteTime": {
     "end_time": "2023-04-16T16:42:50.531288Z",
     "start_time": "2023-04-16T16:42:50.517730Z"
    }
   },
   "outputs": [
    {
     "data": {
      "text/plain": [
       "array([[5.1, 3.5, 1.4, 0.2],\n",
       "       [4.9, 3. , 1.4, 0.2],\n",
       "       [4.7, 3.2, 1.3, 0.2],\n",
       "       [4.6, 3.1, 1.5, 0.2],\n",
       "       [5. , 3.6, 1.4, 0.2]])"
      ]
     },
     "execution_count": 17,
     "metadata": {},
     "output_type": "execute_result"
    }
   ],
   "source": [
    "X[:5]"
   ]
  },
  {
   "cell_type": "code",
   "execution_count": 25,
   "metadata": {
    "ExecuteTime": {
     "end_time": "2023-04-16T16:42:50.566207Z",
     "start_time": "2023-04-16T16:42:50.534615Z"
    }
   },
   "outputs": [
    {
     "data": {
      "text/plain": [
       "array([0, 0, 0, 0, 0])"
      ]
     },
     "execution_count": 25,
     "metadata": {},
     "output_type": "execute_result"
    }
   ],
   "source": [
    "y[:5]"
   ]
  },
  {
   "cell_type": "code",
   "execution_count": 22,
   "metadata": {
    "ExecuteTime": {
     "end_time": "2023-04-16T16:42:50.566207Z",
     "start_time": "2023-04-16T16:42:50.550294Z"
    }
   },
   "outputs": [],
   "source": [
    "pca = PrincipalComponentAnalysis(n_components=3)"
   ]
  },
  {
   "cell_type": "code",
   "execution_count": 23,
   "metadata": {
    "ExecuteTime": {
     "end_time": "2023-04-16T16:42:50.601423Z",
     "start_time": "2023-04-16T16:42:50.567205Z"
    }
   },
   "outputs": [
    {
     "data": {
      "text/plain": [
       "array([[-2.26470281, -0.4800266 , -0.12770602],\n",
       "       [-2.08096115,  0.67413356, -0.23460885],\n",
       "       [-2.36422905,  0.34190802,  0.04420148],\n",
       "       [-2.29938422,  0.59739451,  0.09129011],\n",
       "       [-2.38984217, -0.64683538,  0.0157382 ]])"
      ]
     },
     "execution_count": 23,
     "metadata": {},
     "output_type": "execute_result"
    }
   ],
   "source": [
    "X_reduced = pca.fit_transform(X)\n",
    "X_reduced[:5]"
   ]
  },
  {
   "cell_type": "code",
   "execution_count": 21,
   "metadata": {
    "ExecuteTime": {
     "end_time": "2023-04-16T16:42:50.828800Z",
     "start_time": "2023-04-16T16:42:50.620603Z"
    }
   },
   "outputs": [
    {
     "data": {
      "image/png": "[encoded data removed]",
      "text/plain": [
       "<Figure size 640x480 with 1 Axes>"
      ]
     },
     "metadata": {},
     "output_type": "display_data"
    }
   ],
   "source": [
    "pca.plot(y)"
   ]
  },
  {
   "cell_type": "code",
   "execution_count": null,
   "metadata": {},
   "outputs": [],
   "source": []
  }
 ],
 "metadata": {
  "kernelspec": {
   "display_name": "Python 3 (ipykernel)",
   "language": "python",
   "name": "python3"
  },
  "language_info": {
   "codemirror_mode": {
    "name": "ipython",
    "version": 3
   },
   "file_extension": ".py",
   "mimetype": "text/x-python",
   "name": "python",
   "nbconvert_exporter": "python",
   "pygments_lexer": "ipython3",
   "version": "3.10.9"
  }
 },
 "nbformat": 4,
 "nbformat_minor": 1
}

{
 "cells": [
  {
   "cell_type": "markdown",
   "metadata": {},
   "source": [
    "# Data Science Lab - 5\n",
    "### Karthik Bommaraju\n",
    "### 207166\n",
    "### Section - B"
   ]
  },
  {
   "cell_type": "markdown",
   "metadata": {},
   "source": [
    "# Linear Regression"
   ]
  },
  {
   "cell_type": "code",
   "execution_count": 1,
   "metadata": {},
   "outputs": [],
   "source": [
    "import numpy as np\n",
    "import matplotlib.pyplot as plt\n",
    "import seaborn as sns\n",
    "sns.set_style('dark')"
   ]
  },
  {
   "cell_type": "code",
   "execution_count": 2,
   "metadata": {},
   "outputs": [],
   "source": [
    "def normalize(X):\n",
    "    X_mean = np.mean(X, axis=0)\n",
    "    X_std = np.std(X, axis=0)\n",
    "    return (X - X_mean) / X_std"
   ]
  },
  {
   "cell_type": "code",
   "execution_count": 3,
   "metadata": {},
   "outputs": [],
   "source": [
    "class Random_Data:\n",
    "    def __init__(self, size, noise_std):\n",
    "        self.size = size\n",
    "        self.noise_std = noise_std\n",
    "    def generate_linear_data(self):\n",
    "        weights = np.random.uniform(-1, 1, size=(2, 1))\n",
    "        X = np.random.uniform(0, 100, size=(self.size, 1))\n",
    "        X_norm = normalize(X).reshape(X.shape[0], 1)\n",
    "        X_norm = np.concatenate([np.ones((self.size, 1)), X_norm], axis=1)\n",
    "        y = (X_norm @ weights) + np.random.normal(scale=self.noise_std, size=self.size).reshape(-1, 1)\n",
    "        return X, y\n",
    "    def data(self):\n",
    "        return self.generate_linear_data()"
   ]
  },
  {
   "cell_type": "code",
   "execution_count": 4,
   "metadata": {},
   "outputs": [],
   "source": [
    "def train_test_split(X, y, test_size=None, train_size=None):\n",
    "    if test_size is None and train_size is None:\n",
    "        test_size = 0.25\n",
    "    if train_size is None:\n",
    "        train_size = 1 - test_size\n",
    "    arr_rand = np.random.rand(len(X))\n",
    "    mask = arr_rand < np.percentile(arr_rand, int(train_size * 100))\n",
    "    X_train = X[mask]\n",
    "    y_train = y[mask]\n",
    "    X_test = X[~mask]\n",
    "    y_test = y[~mask]\n",
    "    return X_train, X_test, y_train, y_test"
   ]
  },
  {
   "cell_type": "code",
   "execution_count": 5,
   "metadata": {},
   "outputs": [],
   "source": [
    "class LinearRegression:\n",
    "    def __init__(self, X, y, alpha=1e-2, reg=None, lambda_reg=1.0):\n",
    "        self.X = X\n",
    "        self.X_norm = np.insert(normalize(X).reshape(-1, 1), 0, 1, axis=1)\n",
    "        self.y = y.reshape(-1, 1)\n",
    "        self.alpha = alpha\n",
    "        self.reg = reg\n",
    "        self.lambda_reg = lambda_reg\n",
    "        self.Theta = np.ones(shape=(2, 1), dtype='float64')\n",
    "        self.m = len(X)\n",
    "    def reg_term(self, theta):\n",
    "        if self.reg is None:\n",
    "            return np.zeros(theta.shape)\n",
    "        if self.reg == 'l1':\n",
    "            lasso_reg_term = (self.lambda_reg / self.m) * np.sign(theta)\n",
    "            lasso_reg_term[0] = 0\n",
    "            return lasso_reg_term\n",
    "        ridge_reg_term = (self.lambda_reg / self.m) * theta\n",
    "        ridge_reg_term[0] = 0\n",
    "        return ridge_reg_term\n",
    "    def batch_gradient_descent(self, num_iter):\n",
    "        iterations = 0\n",
    "        while iterations < num_iter:\n",
    "            loss_derivative = (self.X_norm.T @ ((self.X_norm @ self.Theta) - self.y)) / self.m\n",
    "            loss_derivative += self.reg_term(self.Theta) \n",
    "            if np.linalg.norm(loss_derivative) < 1e-5:\n",
    "                break\n",
    "            self.Theta = self.Theta - (self.alpha * loss_derivative)\n",
    "            iterations += 1\n",
    "        print('Iterations: ', iterations)\n",
    "    def predict(self, X):\n",
    "        X_norm = np.insert(normalize(X).reshape(-1, 1), 0, 1, axis=1)\n",
    "        y = X_norm @ self.Theta\n",
    "        return y\n",
    "    def plot(self, X, y):\n",
    "        sns.scatterplot(x=X, y=y)\n",
    "        plt.plot(X, self.predict(X), color='red')\n",
    "        plt.show()\n",
    "    def weight_vector(self):\n",
    "        print(self.Theta)\n",
    "    def score(self, X_test, y_test):\n",
    "        y_pred = self.predict(X_test)\n",
    "        SS_tot = ((y_test - np.mean(y_test)) ** 2).sum()\n",
    "        SS_res = ((y_test - y_pred) ** 2).sum()\n",
    "        r2_score = 1 - SS_res / SS_tot\n",
    "        return r2_score"
   ]
  },
  {
   "cell_type": "code",
   "execution_count": 8,
   "metadata": {},
   "outputs": [
    {
     "data": {
      "text/plain": [
       "(500, 1)"
      ]
     },
     "execution_count": 8,
     "metadata": {},
     "output_type": "execute_result"
    }
   ],
   "source": [
    "X, y = Random_Data(500, 0.5).data()\n",
    "X.shape"
   ]
  },
  {
   "cell_type": "code",
   "execution_count": 7,
   "metadata": {},
   "outputs": [
    {
     "data": {
      "text/plain": [
       "array([[69.08922939],\n",
       "       [68.83442441],\n",
       "       [53.17603603],\n",
       "       [28.58124937],\n",
       "       [85.98753104]])"
      ]
     },
     "execution_count": 7,
     "metadata": {},
     "output_type": "execute_result"
    }
   ],
   "source": [
    "X[:5]"
   ]
  },
  {
   "cell_type": "code",
   "execution_count": 8,
   "metadata": {},
   "outputs": [
    {
     "data": {
      "text/plain": [
       "array([[ 0.43397678],\n",
       "       [-0.14689802],\n",
       "       [-1.05397456],\n",
       "       [-1.21709013],\n",
       "       [ 1.11457166]])"
      ]
     },
     "execution_count": 8,
     "metadata": {},
     "output_type": "execute_result"
    }
   ],
   "source": [
    "y[:5]"
   ]
  },
  {
   "cell_type": "code",
   "execution_count": 9,
   "metadata": {},
   "outputs": [],
   "source": [
    "X_train, X_test, y_train, y_test = train_test_split(X, y, train_size=0.8)"
   ]
  },
  {
   "cell_type": "code",
   "execution_count": 10,
   "metadata": {},
   "outputs": [
    {
     "data": {
      "text/plain": [
       "array([[69.08922939],\n",
       "       [68.83442441],\n",
       "       [53.17603603],\n",
       "       [28.58124937],\n",
       "       [85.98753104]])"
      ]
     },
     "execution_count": 10,
     "metadata": {},
     "output_type": "execute_result"
    }
   ],
   "source": [
    "X_train[:5]"
   ]
  },
  {
   "cell_type": "code",
   "execution_count": 11,
   "metadata": {},
   "outputs": [
    {
     "data": {
      "text/plain": [
       "array([[ 0.14117434],\n",
       "       [80.26953581],\n",
       "       [53.64322494],\n",
       "       [53.93245824],\n",
       "       [61.97098646]])"
      ]
     },
     "execution_count": 11,
     "metadata": {},
     "output_type": "execute_result"
    }
   ],
   "source": [
    "X_test[:5]"
   ]
  },
  {
   "cell_type": "code",
   "execution_count": 12,
   "metadata": {},
   "outputs": [
    {
     "data": {
      "text/plain": [
       "array([[ 0.43397678],\n",
       "       [-0.14689802],\n",
       "       [-1.05397456],\n",
       "       [-1.21709013],\n",
       "       [ 1.11457166]])"
      ]
     },
     "execution_count": 12,
     "metadata": {},
     "output_type": "execute_result"
    }
   ],
   "source": [
    "y_train[:5]"
   ]
  },
  {
   "cell_type": "code",
   "execution_count": 13,
   "metadata": {},
   "outputs": [
    {
     "data": {
      "text/plain": [
       "array([[-1.10731697],\n",
       "       [ 0.64690159],\n",
       "       [ 0.55059568],\n",
       "       [-0.36111534],\n",
       "       [-0.43781944]])"
      ]
     },
     "execution_count": 13,
     "metadata": {},
     "output_type": "execute_result"
    }
   ],
   "source": [
    "y_test[:5]"
   ]
  },
  {
   "cell_type": "code",
   "execution_count": 14,
   "metadata": {},
   "outputs": [
    {
     "data": {
      "text/plain": [
       "<AxesSubplot:>"
      ]
     },
     "execution_count": 14,
     "metadata": {},
     "output_type": "execute_result"
    },
    {
     "data": {
      "image/png": "[encoded data removed]",
      "text/plain": [
       "<Figure size 432x288 with 1 Axes>"
      ]
     },
     "metadata": {},
     "output_type": "display_data"
    }
   ],
   "source": [
    "sns.scatterplot(x=X_train.reshape(-1), y=y_train.reshape(-1))"
   ]
  },
  {
   "cell_type": "code",
   "execution_count": 15,
   "metadata": {},
   "outputs": [
    {
     "data": {
      "text/plain": [
       "((500, 1), (500, 1), (400, 1), (100, 1), (400, 1), (100, 1))"
      ]
     },
     "execution_count": 15,
     "metadata": {},
     "output_type": "execute_result"
    }
   ],
   "source": [
    "X.shape, y.shape, X_train.shape, X_test.shape, y_train.shape, y_test.shape"
   ]
  },
  {
   "cell_type": "markdown",
   "metadata": {},
   "source": [
    "### No Regularization"
   ]
  },
  {
   "cell_type": "code",
   "execution_count": 16,
   "metadata": {},
   "outputs": [],
   "source": [
    "lin_reg = LinearRegression(X_train, y_train, alpha=1e-1)"
   ]
  },
  {
   "cell_type": "code",
   "execution_count": 17,
   "metadata": {},
   "outputs": [
    {
     "name": "stdout",
     "output_type": "stream",
     "text": [
      "Iterations:  114\n"
     ]
    }
   ],
   "source": [
    "lin_reg.batch_gradient_descent(num_iter=1000)"
   ]
  },
  {
   "cell_type": "code",
   "execution_count": 18,
   "metadata": {},
   "outputs": [
    {
     "data": {
      "image/png": "[encoded data removed]",
      "text/plain": [
       "<Figure size 432x288 with 1 Axes>"
      ]
     },
     "metadata": {},
     "output_type": "display_data"
    }
   ],
   "source": [
    "lin_reg.plot(X_test.reshape(-1), y_test.reshape(-1))"
   ]
  },
  {
   "cell_type": "code",
   "execution_count": 19,
   "metadata": {},
   "outputs": [
    {
     "name": "stdout",
     "output_type": "stream",
     "text": [
      "0.7923185367464944\n"
     ]
    }
   ],
   "source": [
    "print(lin_reg.score(X_test, y_test))"
   ]
  },
  {
   "cell_type": "markdown",
   "metadata": {},
   "source": [
    "### Lasso Regularization"
   ]
  },
  {
   "cell_type": "code",
   "execution_count": 20,
   "metadata": {},
   "outputs": [],
   "source": [
    "lin_reg_lasso = LinearRegression(X_train, y_train, alpha=1e-1, reg='l1', lambda_reg=15)"
   ]
  },
  {
   "cell_type": "code",
   "execution_count": 21,
   "metadata": {},
   "outputs": [
    {
     "name": "stdout",
     "output_type": "stream",
     "text": [
      "Iterations:  114\n"
     ]
    }
   ],
   "source": [
    "lin_reg_lasso.batch_gradient_descent(num_iter=1000)"
   ]
  },
  {
   "cell_type": "code",
   "execution_count": 22,
   "metadata": {},
   "outputs": [
    {
     "data": {
      "image/png": "[encoded data removed]",
      "text/plain": [
       "<Figure size 432x288 with 1 Axes>"
      ]
     },
     "metadata": {},
     "output_type": "display_data"
    }
   ],
   "source": [
    "lin_reg_lasso.plot(X_test.reshape(-1), y_test.reshape(-1))"
   ]
  },
  {
   "cell_type": "code",
   "execution_count": 23,
   "metadata": {},
   "outputs": [
    {
     "name": "stdout",
     "output_type": "stream",
     "text": [
      "0.7923287083372725\n"
     ]
    }
   ],
   "source": [
    "print(lin_reg_lasso.score(X_test, y_test))"
   ]
  },
  {
   "cell_type": "markdown",
   "metadata": {},
   "source": [
    "### Ridge Regularization"
   ]
  },
  {
   "cell_type": "code",
   "execution_count": 24,
   "metadata": {},
   "outputs": [],
   "source": [
    "lin_reg_ridge = LinearRegression(X_train, y_train, alpha=1e-1, reg='l2', lambda_reg=15)"
   ]
  },
  {
   "cell_type": "code",
   "execution_count": 25,
   "metadata": {},
   "outputs": [
    {
     "name": "stdout",
     "output_type": "stream",
     "text": [
      "Iterations:  114\n"
     ]
    }
   ],
   "source": [
    "lin_reg_ridge.batch_gradient_descent(num_iter=1000)"
   ]
  },
  {
   "cell_type": "code",
   "execution_count": 26,
   "metadata": {},
   "outputs": [
    {
     "data": {
      "image/png": "[encoded data removed]",
      "text/plain": [
       "<Figure size 432x288 with 1 Axes>"
      ]
     },
     "metadata": {},
     "output_type": "display_data"
    }
   ],
   "source": [
    "lin_reg_ridge.plot(X_test.reshape(-1), y_test.reshape(-1))"
   ]
  },
  {
   "cell_type": "code",
   "execution_count": 27,
   "metadata": {},
   "outputs": [
    {
     "name": "stdout",
     "output_type": "stream",
     "text": [
      "0.7923287086758863\n"
     ]
    }
   ],
   "source": [
    "print(lin_reg_ridge.score(X_test, y_test))"
   ]
  }
 ],
 "metadata": {
  "kernelspec": {
   "display_name": "Python 3 (ipykernel)",
   "language": "python",
   "name": "python3"
  },
  "language_info": {
   "codemirror_mode": {
    "name": "ipython",
    "version": 3
   },
   "file_extension": ".py",
   "mimetype": "text/x-python",
   "name": "python",
   "nbconvert_exporter": "python",
   "pygments_lexer": "ipython3",
   "version": "3.10.9"
  },
  "vscode": {
   "interpreter": {
    "hash": "916dbcbb3f70747c44a77c7bcd40155683ae19c65e1c03b4aa3499c5328201f1"
   }
  }
 },
 "nbformat": 4,
 "nbformat_minor": 2
}

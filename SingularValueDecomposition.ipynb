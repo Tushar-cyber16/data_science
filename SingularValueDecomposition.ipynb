{
 "cells": [
  {
   "cell_type": "markdown",
   "metadata": {},
   "source": [
    "## Q1-2. Singular Value Decomposition"
   ]
  },
  {
   "cell_type": "code",
   "execution_count": 1,
   "metadata": {
    "ExecuteTime": {
     "start_time": "2023-04-16T16:52:04.873241Z",
     "end_time": "2023-04-16T16:52:06.473082Z"
    },
    "collapsed": true
   },
   "outputs": [],
   "source": [
    "import numpy as np\n",
    "import pandas as pd\n",
    "import matplotlib.pyplot as plt\n",
    "from sklearn.datasets import load_iris"
   ]
  },
  {
   "cell_type": "code",
   "execution_count": 2,
   "metadata": {
    "ExecuteTime": {
     "start_time": "2023-04-16T16:52:06.473082Z",
     "end_time": "2023-04-16T16:52:06.485558Z"
    }
   },
   "outputs": [],
   "source": [
    "class SingularValueDecomposition:\n",
    "    def __init__(self, n_singular_values):\n",
    "        self.n_singular_values_ = n_singular_values\n",
    "        self.U_ = None\n",
    "        self.V_ = None\n",
    "        self.S_ = None\n",
    "\n",
    "    def fit(self, X):\n",
    "        X_T_X = np.dot(X.T, X)\n",
    "        eigenvalues, eigenvectors = np.linalg.eig(X_T_X)\n",
    "        idx = np.argsort(eigenvalues)[::-1]\n",
    "        eigenvectors = eigenvectors[:, idx]\n",
    "        self.V_ = eigenvectors[:, :self.n_singular_values_]\n",
    "        X_X_T = np.dot(X, X.T)\n",
    "        eigenvalues, eigenvectors = np.linalg.eig(X_X_T)\n",
    "        idx = np.argsort(eigenvalues)[::-1]\n",
    "        eigenvalues = eigenvalues[idx]\n",
    "        eigenvectors = eigenvectors[:, idx]\n",
    "        self.U_ = eigenvectors[:, :self.n_singular_values_]\n",
    "        self.S_ = np.sqrt(eigenvalues[:self.n_singular_values_])\n",
    "        return self.U_, self.S_, self.V_.T\n",
    "\n",
    "    def get_original_matrix(self):\n",
    "        S_diagonal = np.diag(self.S_)\n",
    "        A = np.dot(np.dot(self.U_, S_diagonal), self.V_.T)\n",
    "        return A\n",
    "\n",
    "    def plot(self, y):\n",
    "        df = pd.DataFrame(np.hstack((np.real(self.U_), y.reshape(-1, 1))))\n",
    "        class_0 = df[df[2] == 0].values\n",
    "        class_1 = df[df[2] == 1].values\n",
    "        class_2 = df[df[2] == 2].values\n",
    "        plt.scatter(x=class_0[:,0], y=class_0[:,1], color='red')\n",
    "        plt.scatter(x=class_1[:,0], y=class_1[:,1], color='green')\n",
    "        plt.scatter(x=class_2[:,0], y=class_2[:,1], color='blue')\n",
    "        txt = \"Red - Class 0\\nGreen - Class 1\\nBlue - Class 2\"\n",
    "        plt.figtext(0.4, -0.1, txt, wrap=True, horizontalalignment='left', fontsize=12)\n",
    "        plt.show()"
   ]
  },
  {
   "cell_type": "code",
   "execution_count": 3,
   "metadata": {
    "ExecuteTime": {
     "start_time": "2023-04-16T16:52:06.485558Z",
     "end_time": "2023-04-16T16:52:06.521411Z"
    }
   },
   "outputs": [
    {
     "data": {
      "text/plain": "array([[5.1, 3.5, 1.4, 0.2],\n       [4.9, 3. , 1.4, 0.2],\n       [4.7, 3.2, 1.3, 0.2],\n       [4.6, 3.1, 1.5, 0.2],\n       [5. , 3.6, 1.4, 0.2]])"
     },
     "execution_count": 3,
     "metadata": {},
     "output_type": "execute_result"
    }
   ],
   "source": [
    "X, y = load_iris(return_X_y=True)\n",
    "X[:5]"
   ]
  },
  {
   "cell_type": "code",
   "execution_count": 4,
   "metadata": {
    "ExecuteTime": {
     "start_time": "2023-04-16T16:52:06.502328Z",
     "end_time": "2023-04-16T16:52:06.562434Z"
    }
   },
   "outputs": [],
   "source": [
    "svd = SingularValueDecomposition(n_singular_values=2)\n",
    "X_U, X_S, X_V = svd.fit(X)"
   ]
  },
  {
   "cell_type": "code",
   "execution_count": 5,
   "metadata": {
    "ExecuteTime": {
     "start_time": "2023-04-16T16:52:06.561410Z",
     "end_time": "2023-04-16T16:52:06.573597Z"
    }
   },
   "outputs": [
    {
     "data": {
      "text/plain": "array([[ 0.06161685+0.j, -0.12961144+0.j],\n       [ 0.05807094+0.j, -0.11101978+0.j],\n       [ 0.05676305+0.j, -0.11796647+0.j],\n       [ 0.05665344+0.j, -0.10530815+0.j],\n       [ 0.0612302 +0.j, -0.13108979+0.j]])"
     },
     "execution_count": 5,
     "metadata": {},
     "output_type": "execute_result"
    }
   ],
   "source": [
    "X_U[:5]"
   ]
  },
  {
   "cell_type": "code",
   "execution_count": 6,
   "metadata": {
    "ExecuteTime": {
     "start_time": "2023-04-16T16:52:06.573597Z",
     "end_time": "2023-04-16T16:52:06.612144Z"
    }
   },
   "outputs": [
    {
     "data": {
      "text/plain": "array([[ 0.75110816,  0.38008617,  0.51300886,  0.16790754],\n       [ 0.2841749 ,  0.5467445 , -0.70866455, -0.34367081]])"
     },
     "execution_count": 6,
     "metadata": {},
     "output_type": "execute_result"
    }
   ],
   "source": [
    "X_V"
   ]
  },
  {
   "cell_type": "code",
   "execution_count": 7,
   "metadata": {
    "ExecuteTime": {
     "start_time": "2023-04-16T16:52:06.592121Z",
     "end_time": "2023-04-16T16:52:06.612144Z"
    }
   },
   "outputs": [
    {
     "data": {
      "text/plain": "array([95.95991387+0.j, 17.76103366+0.j])"
     },
     "execution_count": 7,
     "metadata": {},
     "output_type": "execute_result"
    }
   ],
   "source": [
    "X_S"
   ]
  },
  {
   "cell_type": "code",
   "execution_count": 8,
   "metadata": {
    "ExecuteTime": {
     "start_time": "2023-04-16T16:52:06.608193Z",
     "end_time": "2023-04-16T16:52:06.632407Z"
    }
   },
   "outputs": [
    {
     "data": {
      "text/plain": "array([[3.78693258+0.j, 0.98872943+0.j, 4.66466101+0.j, 1.78393642+0.j],\n       [3.62519358+0.j, 1.0399385 +0.j, 4.25609603+0.j, 1.61332082+0.j],\n       [3.49586393+0.j, 0.92477813+0.j, 4.27914601+0.j, 1.63464977+0.j],\n       [3.5518536 +0.j, 1.04370227+0.j, 4.11442495+0.j, 1.55561804+0.j],\n       [3.75160324+0.j, 0.96027154+0.j, 4.66423463+0.j, 1.78673043+0.j]])"
     },
     "execution_count": 8,
     "metadata": {},
     "output_type": "execute_result"
    }
   ],
   "source": [
    "X_new = svd.get_original_matrix()\n",
    "X_new[:5]"
   ]
  },
  {
   "cell_type": "code",
   "execution_count": 9,
   "outputs": [
    {
     "data": {
      "text/plain": "<Figure size 432x288 with 1 Axes>",
      "image/png": "[encoded data removed]"
     },
     "metadata": {
      "needs_background": "light"
     },
     "output_type": "display_data"
    }
   ],
   "source": [
    "svd.plot(y)"
   ],
   "metadata": {
    "collapsed": false,
    "ExecuteTime": {
     "start_time": "2023-04-16T16:52:06.624303Z",
     "end_time": "2023-04-16T16:52:06.832350Z"
    }
   }
  }
 ],
 "metadata": {
  "kernelspec": {
   "display_name": "Python 3 (ipykernel)",
   "language": "python",
   "name": "python3"
  },
  "language_info": {
   "codemirror_mode": {
    "name": "ipython",
    "version": 3
   },
   "file_extension": ".py",
   "mimetype": "text/x-python",
   "name": "python",
   "nbconvert_exporter": "python",
   "pygments_lexer": "ipython3",
   "version": "3.9.5"
  }
 },
 "nbformat": 4,
 "nbformat_minor": 1
}

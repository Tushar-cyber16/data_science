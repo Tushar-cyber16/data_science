{
 "cells": [
  {
   "cell_type": "markdown",
   "metadata": {},
   "source": [
    "# Q2"
   ]
  },
  {
   "cell_type": "markdown",
   "metadata": {},
   "source": [
    "# Linear Discriminant Analysis"
   ]
  },
  {
   "cell_type": "code",
   "execution_count": 1,
   "metadata": {
    "ExecuteTime": {
     "end_time": "2023-04-16T17:48:03.925431Z",
     "start_time": "2023-04-16T17:48:02.405475Z"
    }
   },
   "outputs": [],
   "source": [
    "import numpy as np\n",
    "import pandas as pd\n",
    "import matplotlib.pyplot as plt\n",
    "from sklearn.datasets import load_iris"
   ]
  },
  {
   "cell_type": "code",
   "execution_count": 2,
   "metadata": {
    "ExecuteTime": {
     "end_time": "2023-04-16T17:48:03.940454Z",
     "start_time": "2023-04-16T17:48:03.935449Z"
    }
   },
   "outputs": [],
   "source": [
    "class LinearDiscriminantAnalysis:\n",
    "    def __init__(self, n_components=None):\n",
    "        self.n_components_ = n_components\n",
    "        self.W_ = None\n",
    "        self.b_ = None\n",
    "        self.X_ = None\n",
    "        self.y_ = None\n",
    "        self.X_new_ = None\n",
    "\n",
    "    def fit(self, X, y):\n",
    "        self.X_ = X\n",
    "        self.y_ = y\n",
    "        unique_classes = np.unique(y)\n",
    "\n",
    "        class_means = np.array([np.mean(X[y == c], axis=0) for c in unique_classes])\n",
    "        overall_mean = np.mean(X, axis=0)\n",
    "        scatter_within = sum([np.dot((X[y == c] - class_means[i]).T, (X[y == c] - class_means[i])) for i, c in enumerate(unique_classes)])\n",
    "        scatter_between = np.dot((class_means - overall_mean).T, (class_means - overall_mean))\n",
    "\n",
    "        eigenvalues, eigenvectors = np.linalg.eig(np.linalg.inv(scatter_within).dot(scatter_between))\n",
    "        sorted_indices = np.argsort(eigenvalues)[::-1]\n",
    "        eigenvectors = eigenvectors[:, sorted_indices]\n",
    "        if self.n_components_ is not None:\n",
    "            self.W_ = eigenvectors[:, :self.n_components_]\n",
    "        else:\n",
    "            self.W_ = eigenvectors\n",
    "        self.b_ = np.dot(class_means, self.W_)\n",
    "\n",
    "        self.X_new_ = np.dot(X, self.W_)\n",
    "        return self.W_, self.b_\n",
    "\n",
    "    def plot(self):\n",
    "        df = pd.DataFrame(np.hstack((self.X_new_, self.y_.reshape(-1, 1))))\n",
    "        class_0 = df[df[2] == 0].values\n",
    "        class_1 = df[df[2] == 1].values\n",
    "        class_2 = df[df[2] == 2].values\n",
    "        plt.scatter(x=class_0[:,0], y=class_0[:,1], color='red')\n",
    "        plt.scatter(x=class_1[:,0], y=class_1[:,1], color='green')\n",
    "        plt.scatter(x=class_2[:,0], y=class_2[:,1], color='blue')\n",
    "        txt = \"Red - Class 0\\nGreen - Class 1\\nBlue - Class 2\"\n",
    "        plt.figtext(0.4, -0.1, txt, wrap=True, horizontalalignment='left', fontsize=12)\n",
    "        plt.show()"
   ]
  },
  {
   "cell_type": "code",
   "execution_count": 3,
   "metadata": {
    "ExecuteTime": {
     "end_time": "2023-04-16T17:48:03.960201Z",
     "start_time": "2023-04-16T17:48:03.942489Z"
    }
   },
   "outputs": [],
   "source": [
    "X, y = load_iris(return_X_y=True)"
   ]
  },
  {
   "cell_type": "code",
   "execution_count": 4,
   "metadata": {
    "ExecuteTime": {
     "end_time": "2023-04-16T17:48:03.972707Z",
     "start_time": "2023-04-16T17:48:03.961710Z"
    }
   },
   "outputs": [
    {
     "data": {
      "text/plain": [
       "array([[5.1, 3.5, 1.4, 0.2],\n",
       "       [4.9, 3. , 1.4, 0.2],\n",
       "       [4.7, 3.2, 1.3, 0.2],\n",
       "       [4.6, 3.1, 1.5, 0.2],\n",
       "       [5. , 3.6, 1.4, 0.2]])"
      ]
     },
     "execution_count": 4,
     "metadata": {},
     "output_type": "execute_result"
    }
   ],
   "source": [
    "X[:5]"
   ]
  },
  {
   "cell_type": "code",
   "execution_count": 5,
   "metadata": {
    "ExecuteTime": {
     "end_time": "2023-04-16T17:48:04.010530Z",
     "start_time": "2023-04-16T17:48:03.975720Z"
    }
   },
   "outputs": [
    {
     "data": {
      "text/plain": [
       "array([0, 0, 0, 0, 0])"
      ]
     },
     "execution_count": 5,
     "metadata": {},
     "output_type": "execute_result"
    }
   ],
   "source": [
    "y[:5]"
   ]
  },
  {
   "cell_type": "code",
   "execution_count": 6,
   "metadata": {
    "ExecuteTime": {
     "end_time": "2023-04-16T17:48:04.021806Z",
     "start_time": "2023-04-16T17:48:03.991850Z"
    }
   },
   "outputs": [],
   "source": [
    "lda = LinearDiscriminantAnalysis(n_components=2)\n",
    "W, b = lda.fit(X, y)"
   ]
  },
  {
   "cell_type": "code",
   "execution_count": 7,
   "metadata": {
    "ExecuteTime": {
     "end_time": "2023-04-16T17:48:04.055039Z",
     "start_time": "2023-04-16T17:48:04.021806Z"
    }
   },
   "outputs": [
    {
     "data": {
      "text/plain": [
       "array([[ 1.49920971, -1.88675441],\n",
       "       [ 1.2643595 , -1.59214275],\n",
       "       [ 1.35525305, -1.73341462],\n",
       "       [ 1.18495616, -1.62358806],\n",
       "       [ 1.5169559 , -1.94476227]])"
      ]
     },
     "execution_count": 7,
     "metadata": {},
     "output_type": "execute_result"
    }
   ],
   "source": [
    "lda.X_new_[:5]"
   ]
  },
  {
   "cell_type": "code",
   "execution_count": 8,
   "metadata": {
    "ExecuteTime": {
     "end_time": "2023-04-16T17:48:04.262458Z",
     "start_time": "2023-04-16T17:48:04.056051Z"
    }
   },
   "outputs": [
    {
     "data": {
      "image/png": "[encoded data removed]",
      "text/plain": [
       "<Figure size 432x288 with 1 Axes>"
      ]
     },
     "metadata": {
      "needs_background": "light"
     },
     "output_type": "display_data"
    }
   ],
   "source": [
    "lda.plot()"
   ]
  }
 ],
 "metadata": {
  "kernelspec": {
   "display_name": "Python 3 (ipykernel)",
   "language": "python",
   "name": "python3"
  },
  "language_info": {
   "codemirror_mode": {
    "name": "ipython",
    "version": 3
   },
   "file_extension": ".py",
   "mimetype": "text/x-python",
   "name": "python",
   "nbconvert_exporter": "python",
   "pygments_lexer": "ipython3",
   "version": "3.10.9"
  }
 },
 "nbformat": 4,
 "nbformat_minor": 2
}

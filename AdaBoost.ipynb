{
 "cells": [
  {
   "cell_type": "code",
   "execution_count": 59,
   "metadata": {
    "collapsed": true,
    "ExecuteTime": {
     "start_time": "2023-05-03T00:46:29.970237Z",
     "end_time": "2023-05-03T00:46:30.001624Z"
    }
   },
   "outputs": [],
   "source": [
    "import numpy as np\n",
    "import matplotlib.pyplot as plt\n",
    "from sklearn.datasets import load_breast_cancer"
   ]
  },
  {
   "cell_type": "code",
   "execution_count": 60,
   "outputs": [],
   "source": [
    "class DecisionStump:\n",
    "    def __init__(self):\n",
    "        self.threshold_ = None\n",
    "        self.feature_index_ = None\n",
    "        self.polarity_ = None\n",
    "\n",
    "    def fit(self, X, y, w):\n",
    "        m, n = X.shape\n",
    "        best_score = float('inf')\n",
    "        for feature_idx in range(n):\n",
    "            feature_values = X[:, feature_idx]\n",
    "            thresholds = np.unique(feature_values)\n",
    "            for threshold in thresholds:\n",
    "                for polarity in [1, -1]:\n",
    "                    y_pred = np.ones(m)\n",
    "                    y_pred[polarity * feature_values < polarity * threshold] = -1\n",
    "                    score = np.sum(w * (y_pred != y))\n",
    "                    if score < best_score:\n",
    "                        self.threshold_ = threshold\n",
    "                        self.feature_index_ = feature_idx\n",
    "                        self.polarity_ = polarity\n",
    "                        best_score = score\n",
    "\n",
    "    def predict(self, X):\n",
    "        m, n = X.shape\n",
    "        y_pred = np.ones(m)\n",
    "        feature_values = X[:, self.feature_index_]\n",
    "        y_pred[self.polarity_ * feature_values < self.polarity_ * self.threshold_] = -1\n",
    "        return y_pred"
   ],
   "metadata": {
    "collapsed": false,
    "ExecuteTime": {
     "start_time": "2023-05-03T00:46:30.332912Z",
     "end_time": "2023-05-03T00:46:30.350772Z"
    }
   }
  },
  {
   "cell_type": "code",
   "execution_count": 61,
   "outputs": [],
   "source": [
    "class AdaBoost:\n",
    "    def __init__(self, n_classifiers):\n",
    "        self.n_classifiers_ = n_classifiers\n",
    "        self.alpha_ = np.zeros(n_classifiers)\n",
    "        self.classifiers_ = []\n",
    "\n",
    "    def fit(self, X, y):\n",
    "        m, n = X.shape\n",
    "        w = np.full(m, 1/m)\n",
    "        for i in range(self.n_classifiers_):\n",
    "            clf = DecisionStump()\n",
    "            clf.fit(X, y, w)\n",
    "            y_pred = clf.predict(X)\n",
    "            error = np.sum(w * (y_pred != y))\n",
    "            self.alpha_[i] = 0.5 * np.log((1 - error) / error)\n",
    "            w = w * np.exp(-self.alpha_[i] * y * y_pred)\n",
    "            w = w / np.sum(w)\n",
    "            self.classifiers_.append(clf)\n",
    "\n",
    "    def predict(self, X):\n",
    "        y_pred = np.zeros(X.shape[0])\n",
    "        for i in range(self.n_classifiers_):\n",
    "            y_pred += self.alpha_[i] * self.classifiers_[i].predict(X)\n",
    "        return np.sign(y_pred)\n",
    "\n",
    "    def performance_measure(self, X_test, y_test):\n",
    "        y_pred = self.predict(X_test).reshape(-1,)\n",
    "        labels = np.unique(y_test)\n",
    "        n_labels = len(labels)\n",
    "        conf_mat = [[0 for _ in range(n_labels)] for _ in range(n_labels)]\n",
    "        for i in range(n_labels):\n",
    "            for j in range(n_labels):\n",
    "                conf_mat[i][j] = np.sum((y_test == labels[i]) & (y_pred == labels[j]))\n",
    "        values = np.array(conf_mat)\n",
    "        fig, ax = plt.subplots()\n",
    "        ax.matshow(values)\n",
    "        for (i, j), z in np.ndenumerate(values):\n",
    "            ax.text(j, i, z, ha='center', va='center', bbox=dict(boxstyle='round', facecolor='white', edgecolor='0.3'))\n",
    "        plt.title('Confusion Matrix')\n",
    "        plt.xlabel('Predicted')\n",
    "        plt.ylabel('Actual')\n",
    "        plt.show()\n",
    "        true_pred = np.trace(values)\n",
    "        accuracy = true_pred / np.sum(values)\n",
    "        print(\"Accuracy: \", accuracy)\n",
    "        precision = [0 for _ in range(n_labels)]\n",
    "        recall = [0 for _ in range(n_labels)]\n",
    "        f1_score = [0 for _ in range(n_labels)]\n",
    "        print(\"Precision:\")\n",
    "        for j in range(n_labels):\n",
    "            true_positive = values[j, j]\n",
    "            precision[j] = true_positive / np.sum(values[:, j])\n",
    "            print(\"\\tClass -\", labels[j], \":\", precision[j])\n",
    "        print(\"Recall:\")\n",
    "        for i in range(n_labels):\n",
    "            true_positive = values[i, i]\n",
    "            recall[i] = true_positive / np.sum(values[i, :])\n",
    "            print(\"\\tClass -\", labels[i], \":\", recall[i])\n",
    "        print(\"F1-Score:\")\n",
    "        for i in range(n_labels):\n",
    "            f1_score[i] = (2 * precision[i] * recall[i]) / (precision[i] + recall[i])\n",
    "            print(\"\\tClass -\", labels[i], \":\", f1_score[i])"
   ],
   "metadata": {
    "collapsed": false,
    "ExecuteTime": {
     "start_time": "2023-05-03T00:46:30.749687Z",
     "end_time": "2023-05-03T00:46:30.759593Z"
    }
   }
  },
  {
   "cell_type": "code",
   "execution_count": 62,
   "outputs": [],
   "source": [
    "def train_test_split(X, y, test_size=None, train_size=None):\n",
    "    if test_size is None and train_size is None:\n",
    "        test_size = 0.25\n",
    "    if train_size is None:\n",
    "        train_size = 1 - test_size\n",
    "    arr_rand = np.random.rand(len(X))\n",
    "    mask = arr_rand < np.percentile(arr_rand, int(train_size * 100))\n",
    "    X_train = X[mask]\n",
    "    y_train = y[mask]\n",
    "    X_test = X[~mask]\n",
    "    y_test = y[~mask]\n",
    "    return X_train, X_test, y_train, y_test"
   ],
   "metadata": {
    "collapsed": false,
    "ExecuteTime": {
     "start_time": "2023-05-03T00:46:31.249876Z",
     "end_time": "2023-05-03T00:46:31.262875Z"
    }
   }
  },
  {
   "cell_type": "code",
   "execution_count": 63,
   "outputs": [],
   "source": [
    "X, y = load_breast_cancer(return_X_y=True)"
   ],
   "metadata": {
    "collapsed": false,
    "ExecuteTime": {
     "start_time": "2023-05-03T00:46:31.895327Z",
     "end_time": "2023-05-03T00:46:31.912954Z"
    }
   }
  },
  {
   "cell_type": "code",
   "execution_count": 64,
   "outputs": [
    {
     "data": {
      "text/plain": "array([[1.799e+01, 1.038e+01, 1.228e+02, 1.001e+03, 1.184e-01, 2.776e-01,\n        3.001e-01, 1.471e-01, 2.419e-01, 7.871e-02, 1.095e+00, 9.053e-01,\n        8.589e+00, 1.534e+02, 6.399e-03, 4.904e-02, 5.373e-02, 1.587e-02,\n        3.003e-02, 6.193e-03, 2.538e+01, 1.733e+01, 1.846e+02, 2.019e+03,\n        1.622e-01, 6.656e-01, 7.119e-01, 2.654e-01, 4.601e-01, 1.189e-01],\n       [2.057e+01, 1.777e+01, 1.329e+02, 1.326e+03, 8.474e-02, 7.864e-02,\n        8.690e-02, 7.017e-02, 1.812e-01, 5.667e-02, 5.435e-01, 7.339e-01,\n        3.398e+00, 7.408e+01, 5.225e-03, 1.308e-02, 1.860e-02, 1.340e-02,\n        1.389e-02, 3.532e-03, 2.499e+01, 2.341e+01, 1.588e+02, 1.956e+03,\n        1.238e-01, 1.866e-01, 2.416e-01, 1.860e-01, 2.750e-01, 8.902e-02],\n       [1.969e+01, 2.125e+01, 1.300e+02, 1.203e+03, 1.096e-01, 1.599e-01,\n        1.974e-01, 1.279e-01, 2.069e-01, 5.999e-02, 7.456e-01, 7.869e-01,\n        4.585e+00, 9.403e+01, 6.150e-03, 4.006e-02, 3.832e-02, 2.058e-02,\n        2.250e-02, 4.571e-03, 2.357e+01, 2.553e+01, 1.525e+02, 1.709e+03,\n        1.444e-01, 4.245e-01, 4.504e-01, 2.430e-01, 3.613e-01, 8.758e-02],\n       [1.142e+01, 2.038e+01, 7.758e+01, 3.861e+02, 1.425e-01, 2.839e-01,\n        2.414e-01, 1.052e-01, 2.597e-01, 9.744e-02, 4.956e-01, 1.156e+00,\n        3.445e+00, 2.723e+01, 9.110e-03, 7.458e-02, 5.661e-02, 1.867e-02,\n        5.963e-02, 9.208e-03, 1.491e+01, 2.650e+01, 9.887e+01, 5.677e+02,\n        2.098e-01, 8.663e-01, 6.869e-01, 2.575e-01, 6.638e-01, 1.730e-01],\n       [2.029e+01, 1.434e+01, 1.351e+02, 1.297e+03, 1.003e-01, 1.328e-01,\n        1.980e-01, 1.043e-01, 1.809e-01, 5.883e-02, 7.572e-01, 7.813e-01,\n        5.438e+00, 9.444e+01, 1.149e-02, 2.461e-02, 5.688e-02, 1.885e-02,\n        1.756e-02, 5.115e-03, 2.254e+01, 1.667e+01, 1.522e+02, 1.575e+03,\n        1.374e-01, 2.050e-01, 4.000e-01, 1.625e-01, 2.364e-01, 7.678e-02]])"
     },
     "execution_count": 64,
     "metadata": {},
     "output_type": "execute_result"
    }
   ],
   "source": [
    "X[:5]"
   ],
   "metadata": {
    "collapsed": false,
    "ExecuteTime": {
     "start_time": "2023-05-03T00:46:32.347816Z",
     "end_time": "2023-05-03T00:46:32.379394Z"
    }
   }
  },
  {
   "cell_type": "code",
   "execution_count": 65,
   "outputs": [],
   "source": [
    "y[y == 0] = -1"
   ],
   "metadata": {
    "collapsed": false,
    "ExecuteTime": {
     "start_time": "2023-05-03T00:46:32.733995Z",
     "end_time": "2023-05-03T00:46:32.762121Z"
    }
   }
  },
  {
   "cell_type": "code",
   "execution_count": 66,
   "outputs": [
    {
     "data": {
      "text/plain": "((426, 30), (143, 30), (426,), (143,))"
     },
     "execution_count": 66,
     "metadata": {},
     "output_type": "execute_result"
    }
   ],
   "source": [
    "X_train, X_test, y_train, y_test = train_test_split(X, y)\n",
    "X_train.shape, X_test.shape, y_train.shape, y_test.shape"
   ],
   "metadata": {
    "collapsed": false,
    "ExecuteTime": {
     "start_time": "2023-05-03T00:46:33.494549Z",
     "end_time": "2023-05-03T00:46:33.523300Z"
    }
   }
  },
  {
   "cell_type": "code",
   "execution_count": 67,
   "outputs": [],
   "source": [
    "ada = AdaBoost(n_classifiers=15)\n",
    "ada.fit(X_train, y_train)"
   ],
   "metadata": {
    "collapsed": false,
    "ExecuteTime": {
     "start_time": "2023-05-03T00:46:35.214861Z",
     "end_time": "2023-05-03T00:46:41.418988Z"
    }
   }
  },
  {
   "cell_type": "code",
   "execution_count": 68,
   "outputs": [
    {
     "name": "stdout",
     "output_type": "stream",
     "text": [
      "Accuracy:  0.965034965034965\n",
      "Precision:\n",
      "\tClass - -1 : 0.9482758620689655\n",
      "\tClass - 1 : 0.9764705882352941\n",
      "Recall:\n",
      "\tClass - -1 : 0.9649122807017544\n",
      "\tClass - 1 : 0.9651162790697675\n",
      "F1-Score:\n",
      "\tClass - -1 : 0.9565217391304347\n",
      "\tClass - 1 : 0.9707602339181286\n"
     ]
    },
    {
     "data": {
      "text/plain": "<Figure size 432x288 with 1 Axes>",
      "image/png": "[encoded data removed]"
     },
     "metadata": {
      "needs_background": "light"
     },
     "output_type": "display_data"
    }
   ],
   "source": [
    "ada.performance_measure(X_test, y_test)"
   ],
   "metadata": {
    "collapsed": false,
    "ExecuteTime": {
     "start_time": "2023-05-03T00:46:50.809836Z",
     "end_time": "2023-05-03T00:46:50.997539Z"
    }
   }
  }
 ],
 "metadata": {
  "kernelspec": {
   "display_name": "Python 3",
   "language": "python",
   "name": "python3"
  },
  "language_info": {
   "codemirror_mode": {
    "name": "ipython",
    "version": 2
   },
   "file_extension": ".py",
   "mimetype": "text/x-python",
   "name": "python",
   "nbconvert_exporter": "python",
   "pygments_lexer": "ipython2",
   "version": "2.7.6"
  }
 },
 "nbformat": 4,
 "nbformat_minor": 0
}

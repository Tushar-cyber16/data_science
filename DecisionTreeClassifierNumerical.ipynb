{
 "cells": [
  {
   "cell_type": "code",
   "execution_count": 1,
   "metadata": {
    "ExecuteTime": {
     "end_time": "2023-05-02T22:05:07.956221Z",
     "start_time": "2023-05-02T22:05:06.975641Z"
    }
   },
   "outputs": [],
   "source": [
    "import numpy as np\n",
    "import matplotlib.pyplot as plt\n",
    "from sklearn.datasets import load_iris"
   ]
  },
  {
   "cell_type": "code",
   "execution_count": 2,
   "metadata": {
    "ExecuteTime": {
     "end_time": "2023-05-02T22:05:07.992576Z",
     "start_time": "2023-05-02T22:05:07.969224Z"
    }
   },
   "outputs": [],
   "source": [
    "class DecisionTreeClassifier:\n",
    "    class Node:\n",
    "        def __init__(self, feature_index=None, threshold=None, left=None, right=None, info_gain=None, value=None):\n",
    "            self.feature_index_ = feature_index\n",
    "            self.threshold_ = threshold\n",
    "            self.left_ = left\n",
    "            self.right_ = right\n",
    "            self.info_gain_ = info_gain\n",
    "            self.value_ = value\n",
    "            self.leaf_ = value is not None\n",
    "\n",
    "    def __init__(self, min_samples_split=2, max_depth=2):\n",
    "        self.root_ = None\n",
    "        self.min_samples_split_ = min_samples_split\n",
    "        self.max_depth_ = max_depth\n",
    "\n",
    "    @staticmethod\n",
    "    def split(data, feature_index, threshold):\n",
    "        left_data = data[data[:, feature_index] <= threshold]\n",
    "        right_data = data[data[:, feature_index] > threshold]\n",
    "        return left_data, right_data\n",
    "\n",
    "    @staticmethod\n",
    "    def gini_index(y):\n",
    "        class_labels, frequency = np.unique(y, return_counts=True)\n",
    "        frequency = frequency / np.sum(frequency)\n",
    "        gini = np.sum(list(map(lambda x: x ** 2, frequency)))\n",
    "        return 1 - gini\n",
    "\n",
    "    @staticmethod\n",
    "    def entropy(y):\n",
    "        class_labels, frequency = np.unique(y, return_counts=True)\n",
    "        frequency = frequency / np.sum(frequency)\n",
    "        entropy = np.sum(list(map(lambda x: (-x * np.log2(x)), frequency)))\n",
    "        return entropy\n",
    "\n",
    "    def information_gain(self, parent, left_child, right_child, mode=\"entropy\"):\n",
    "        left_weight = len(left_child) / len(parent)\n",
    "        right_weight = len(right_child) / len(parent)\n",
    "        if mode == \"gini\":\n",
    "            gain = self.gini_index(parent) - (left_weight * self.gini_index(left_child) + right_weight * self.gini_index(right_child))\n",
    "        else:\n",
    "            gain = self.entropy(parent) - (left_weight * self.entropy(left_child) + right_weight * self.entropy(right_child))\n",
    "        return gain\n",
    "\n",
    "    def get_best_split(self, data, num_features):\n",
    "        best_split = {}\n",
    "        max_info_gain = -float(\"inf\")\n",
    "        for feature_index in range(num_features):\n",
    "            feature_values = data[:, feature_index]\n",
    "            thresholds = np.unique(feature_values)\n",
    "            for threshold in thresholds:\n",
    "                left_data, right_data = self.split(data, feature_index, threshold)\n",
    "                if len(left_data) > 0 and len(right_data) > 0:\n",
    "                    y, left_y, right_y = data[:, -1], left_data[:, -1], right_data[:, -1]\n",
    "                    curr_info_gain = self.information_gain(y, left_y, right_y, \"gini\")\n",
    "                    if curr_info_gain > max_info_gain:\n",
    "                        best_split['feature_index'] = feature_index\n",
    "                        best_split['threshold'] = threshold\n",
    "                        best_split['left_data'] = left_data\n",
    "                        best_split['right_data'] = right_data\n",
    "                        best_split['info_gain'] = curr_info_gain\n",
    "                        max_info_gain = curr_info_gain\n",
    "        return best_split\n",
    "\n",
    "    @staticmethod\n",
    "    def get_leaf_value(y):\n",
    "        y = list(y)\n",
    "        return max(y, key=y.count)\n",
    "\n",
    "    def construct_recursive(self, data, curr_depth=0):\n",
    "        X, y = data[:, :-1], data[:, -1]\n",
    "        num_samples, num_features = X.shape\n",
    "        if num_samples >= self.min_samples_split_ and curr_depth <= self.max_depth_:\n",
    "            best_split = self.get_best_split(data, num_features)\n",
    "            if best_split['info_gain'] > 0:\n",
    "                left_child = self.construct_recursive(best_split['left_data'], curr_depth + 1)\n",
    "                right_child = self.construct_recursive(best_split['right_data'], curr_depth + 1)\n",
    "                return self.Node(best_split['feature_index'], best_split['threshold'], left_child, right_child, best_split['info_gain'])\n",
    "        leaf_value = self.get_leaf_value(y)\n",
    "        return self.Node(value=leaf_value)\n",
    "\n",
    "    def predict_recursive(self, x, node):\n",
    "        if node.leaf_:\n",
    "            return node.value_\n",
    "        feature_value = x[node.feature_index_]\n",
    "        if feature_value <= node.threshold_:\n",
    "            return self.predict_recursive(x, node.left_)\n",
    "        return self.predict_recursive(x, node.right_)\n",
    "\n",
    "    def fit(self, X_train, y_train):\n",
    "        if y_train.ndim == 1:\n",
    "            y_train = y_train.reshape(-1, 1)\n",
    "        data = np.concatenate((X_train, y_train), axis=1)\n",
    "        self.root_ = self.construct_recursive(data)\n",
    "\n",
    "    def predict(self, X_test):\n",
    "        return np.array([self.predict_recursive(x, self.root_) for x in X_test])\n",
    "\n",
    "    def performance_measure(self, X_test, y_test):\n",
    "        y_pred = self.predict(X_test).reshape(-1,)\n",
    "        labels = np.unique(y_test)\n",
    "        n_labels = len(labels)\n",
    "        conf_mat = [[0 for _ in range(n_labels)] for _ in range(n_labels)]\n",
    "        for i in range(n_labels):\n",
    "            for j in range(n_labels):\n",
    "                conf_mat[i][j] = np.sum((y_test == labels[i]) & (y_pred == labels[j]))\n",
    "        values = np.array(conf_mat)\n",
    "        fig, ax = plt.subplots()\n",
    "        ax.matshow(values)\n",
    "        for (i, j), z in np.ndenumerate(values):\n",
    "            ax.text(j, i, z, ha='center', va='center', bbox=dict(boxstyle='round', facecolor='white', edgecolor='0.3'))\n",
    "        plt.title('Confusion Matrix')\n",
    "        plt.xlabel('Predicted')\n",
    "        plt.ylabel('Actual')\n",
    "        plt.show()\n",
    "        true_pred = np.trace(values)\n",
    "        accuracy = true_pred / np.sum(values)\n",
    "        print(\"Accuracy: \", accuracy)\n",
    "        precision = [0 for _ in range(n_labels)]\n",
    "        recall = [0 for _ in range(n_labels)]\n",
    "        f1_score = [0 for _ in range(n_labels)]\n",
    "        print(\"Precision:\")\n",
    "        for j in range(n_labels):\n",
    "            true_positive = values[j, j]\n",
    "            precision[j] = true_positive / np.sum(values[:, j])\n",
    "            print(\"\\tClass -\", labels[j], \":\", precision[j])\n",
    "        print(\"Recall:\")\n",
    "        for i in range(n_labels):\n",
    "            true_positive = values[i, i]\n",
    "            recall[i] = true_positive / np.sum(values[i, :])\n",
    "            print(\"\\tClass -\", labels[i], \":\", recall[i])\n",
    "        print(\"F1-Score:\")\n",
    "        for i in range(n_labels):\n",
    "            f1_score[i] = (2 * precision[i] * recall[i]) / (precision[i] + recall[i])\n",
    "            print(\"\\tClass -\", labels[i], \":\", f1_score[i])"
   ]
  },
  {
   "cell_type": "code",
   "execution_count": 3,
   "metadata": {
    "ExecuteTime": {
     "end_time": "2023-05-02T22:05:08.002323Z",
     "start_time": "2023-05-02T22:05:07.989580Z"
    }
   },
   "outputs": [],
   "source": [
    "def train_test_split(X, y, test_size=None, train_size=None):\n",
    "    if test_size is None and train_size is None:\n",
    "        test_size = 0.25\n",
    "    if train_size is None:\n",
    "        train_size = 1 - test_size\n",
    "    arr_rand = np.random.rand(len(X))\n",
    "    mask = arr_rand < np.percentile(arr_rand, int(train_size * 100))\n",
    "    X_train = X[mask]\n",
    "    y_train = y[mask]\n",
    "    X_test = X[~mask]\n",
    "    y_test = y[~mask]\n",
    "    return X_train, X_test, y_train, y_test"
   ]
  },
  {
   "cell_type": "code",
   "execution_count": 4,
   "metadata": {
    "ExecuteTime": {
     "end_time": "2023-05-02T22:05:08.020324Z",
     "start_time": "2023-05-02T22:05:08.004327Z"
    }
   },
   "outputs": [],
   "source": [
    "X, y = load_iris(return_X_y=True)"
   ]
  },
  {
   "cell_type": "code",
   "execution_count": 5,
   "metadata": {
    "ExecuteTime": {
     "end_time": "2023-05-02T22:05:08.034334Z",
     "start_time": "2023-05-02T22:05:08.023325Z"
    }
   },
   "outputs": [
    {
     "data": {
      "text/plain": [
       "array([[5.1, 3.5, 1.4, 0.2],\n",
       "       [4.9, 3. , 1.4, 0.2],\n",
       "       [4.7, 3.2, 1.3, 0.2],\n",
       "       [4.6, 3.1, 1.5, 0.2],\n",
       "       [5. , 3.6, 1.4, 0.2]])"
      ]
     },
     "execution_count": 5,
     "metadata": {},
     "output_type": "execute_result"
    }
   ],
   "source": [
    "X[:5]"
   ]
  },
  {
   "cell_type": "code",
   "execution_count": 6,
   "metadata": {
    "ExecuteTime": {
     "end_time": "2023-05-02T22:05:08.057728Z",
     "start_time": "2023-05-02T22:05:08.037325Z"
    }
   },
   "outputs": [
    {
     "data": {
      "text/plain": [
       "array([0, 0, 0, 0, 0])"
      ]
     },
     "execution_count": 6,
     "metadata": {},
     "output_type": "execute_result"
    }
   ],
   "source": [
    "y[:5]"
   ]
  },
  {
   "cell_type": "code",
   "execution_count": 7,
   "metadata": {
    "ExecuteTime": {
     "end_time": "2023-05-02T22:05:08.068692Z",
     "start_time": "2023-05-02T22:05:08.050696Z"
    }
   },
   "outputs": [
    {
     "data": {
      "text/plain": [
       "((120, 4), (30, 4), (120,), (30,))"
      ]
     },
     "execution_count": 7,
     "metadata": {},
     "output_type": "execute_result"
    }
   ],
   "source": [
    "X_train, X_test, y_train, y_test = train_test_split(X, y, test_size=0.2)\n",
    "X_train.shape, X_test.shape, y_train.shape, y_test.shape"
   ]
  },
  {
   "cell_type": "code",
   "execution_count": 8,
   "metadata": {
    "ExecuteTime": {
     "end_time": "2023-05-02T22:05:08.143029Z",
     "start_time": "2023-05-02T22:05:08.066703Z"
    }
   },
   "outputs": [],
   "source": [
    "dtc = DecisionTreeClassifier(min_samples_split=3, max_depth=3)\n",
    "dtc.fit(X_train, y_train)"
   ]
  },
  {
   "cell_type": "code",
   "execution_count": 9,
   "metadata": {
    "ExecuteTime": {
     "end_time": "2023-05-02T22:05:08.314224Z",
     "start_time": "2023-05-02T22:05:08.157039Z"
    }
   },
   "outputs": [
    {
     "data": {
      "image/png": "[encoded data removed]",
      "text/plain": [
       "<Figure size 432x288 with 1 Axes>"
      ]
     },
     "metadata": {
      "needs_background": "light"
     },
     "output_type": "display_data"
    },
    {
     "name": "stdout",
     "output_type": "stream",
     "text": [
      "Accuracy:  0.9666666666666667\n",
      "Precision:\n",
      "\tClass - 0 : 1.0\n",
      "\tClass - 1 : 0.9333333333333333\n",
      "\tClass - 2 : 1.0\n",
      "Recall:\n",
      "\tClass - 0 : 1.0\n",
      "\tClass - 1 : 1.0\n",
      "\tClass - 2 : 0.8888888888888888\n",
      "F1-Score:\n",
      "\tClass - 0 : 1.0\n",
      "\tClass - 1 : 0.9655172413793104\n",
      "\tClass - 2 : 0.9411764705882353\n"
     ]
    }
   ],
   "source": [
    "dtc.performance_measure(X_test, y_test)"
   ]
  }
 ],
 "metadata": {
  "kernelspec": {
   "display_name": "Python 3 (ipykernel)",
   "language": "python",
   "name": "python3"
  },
  "language_info": {
   "codemirror_mode": {
    "name": "ipython",
    "version": 3
   },
   "file_extension": ".py",
   "mimetype": "text/x-python",
   "name": "python",
   "nbconvert_exporter": "python",
   "pygments_lexer": "ipython3",
   "version": "3.10.9"
  }
 },
 "nbformat": 4,
 "nbformat_minor": 1
}

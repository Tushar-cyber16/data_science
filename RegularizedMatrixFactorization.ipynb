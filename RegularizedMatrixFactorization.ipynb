{
 "cells": [
  {
   "cell_type": "markdown",
   "metadata": {},
   "source": [
    "## Q2. Regularized Matrix Factorization"
   ]
  },
  {
   "cell_type": "code",
   "execution_count": 1,
   "metadata": {
    "ExecuteTime": {
     "end_time": "2023-04-16T15:46:16.056823Z",
     "start_time": "2023-04-16T15:46:15.882265Z"
    },
    "collapsed": true
   },
   "outputs": [],
   "source": [
    "import numpy as np"
   ]
  },
  {
   "cell_type": "code",
   "execution_count": 2,
   "metadata": {
    "ExecuteTime": {
     "end_time": "2023-04-16T15:46:16.073730Z",
     "start_time": "2023-04-16T15:46:16.062622Z"
    }
   },
   "outputs": [],
   "source": [
    "class RegularizedMatrixFactorization:\n",
    "    def __init__(self, R, n_factors=2, alpha=0.0002, lambda_reg=0.02):\n",
    "        self.R_ = R\n",
    "        self.n_factors_ = n_factors\n",
    "        self.alpha_ = alpha\n",
    "        self.lambda_ = lambda_reg\n",
    "        self.U_ = np.random.rand(R.shape[0], n_factors)\n",
    "        self.V_ = np.random.rand(R.shape[1], n_factors)\n",
    "        self.R_final_ = None\n",
    "\n",
    "    def gradient_descent(self, num_iter=10000):\n",
    "        iterations = 0\n",
    "        for _ in range(num_iter):\n",
    "            E = np.zeros(shape=self.R_.shape)\n",
    "            E[self.R_ > 0] = self.R_[self.R_ > 0] - (self.U_ @ self.V_.T)[self.R_ > 0]\n",
    "            if np.sum(E ** 2) < 1e-4:\n",
    "                break\n",
    "            dU = (2 * E @ self.V_) - (self.lambda_ * self.U_)\n",
    "            dV = (2 * E.T @ self.U_) - (self.lambda_ * self.V_)\n",
    "            self.U_ += (self.alpha_ * dU)\n",
    "            self.V_ += (self.alpha_ * dV)\n",
    "            iterations += 1\n",
    "        self.R_final_ = (self.U_ @ self.V_.T)\n",
    "        print('Iterations:', iterations)\n",
    "\n",
    "    def final_matrix(self):\n",
    "        return self.R_final_"
   ]
  },
  {
   "cell_type": "code",
   "execution_count": 3,
   "metadata": {
    "ExecuteTime": {
     "end_time": "2023-04-16T15:46:16.117472Z",
     "start_time": "2023-04-16T15:46:16.082270Z"
    }
   },
   "outputs": [
    {
     "data": {
      "text/plain": [
       "array([[2., 0., 1., 4.],\n",
       "       [1., 3., 0., 2.],\n",
       "       [0., 3., 1., 5.],\n",
       "       [5., 0., 2., 2.]])"
      ]
     },
     "execution_count": 3,
     "metadata": {},
     "output_type": "execute_result"
    }
   ],
   "source": [
    "R = np.array([[2, 0, 1, 4], [1, 3, 0, 2], [0, 3, 1, 5], [5, 0, 2, 2]], dtype=float)\n",
    "R"
   ]
  },
  {
   "cell_type": "code",
   "execution_count": 4,
   "metadata": {
    "ExecuteTime": {
     "end_time": "2023-04-16T15:46:16.117472Z",
     "start_time": "2023-04-16T15:46:16.093398Z"
    }
   },
   "outputs": [],
   "source": [
    "rmf = RegularizedMatrixFactorization(R)"
   ]
  },
  {
   "cell_type": "code",
   "execution_count": 5,
   "metadata": {
    "ExecuteTime": {
     "end_time": "2023-04-16T15:46:16.652485Z",
     "start_time": "2023-04-16T15:46:16.172498Z"
    }
   },
   "outputs": [
    {
     "name": "stdout",
     "output_type": "stream",
     "text": [
      "Iterations: 10000\n"
     ]
    },
    {
     "data": {
      "text/plain": [
       "array([[ 2.16192608,  3.71539037,  0.63886407,  3.94914793],\n",
       "       [ 0.75396818,  2.75813687,  0.16581203,  2.36149491],\n",
       "       [ 4.05390551,  3.11923769,  1.34790165,  4.81563173],\n",
       "       [ 4.96469991, -1.83937435,  1.87128717,  2.08862172]])"
      ]
     },
     "execution_count": 5,
     "metadata": {},
     "output_type": "execute_result"
    }
   ],
   "source": [
    "rmf.gradient_descent()\n",
    "rmf.final_matrix()"
   ]
  }
 ],
 "metadata": {
  "kernelspec": {
   "display_name": "Python 3 (ipykernel)",
   "language": "python",
   "name": "python3"
  },
  "language_info": {
   "codemirror_mode": {
    "name": "ipython",
    "version": 3
   },
   "file_extension": ".py",
   "mimetype": "text/x-python",
   "name": "python",
   "nbconvert_exporter": "python",
   "pygments_lexer": "ipython3",
   "version": "3.9.5"
  }
 },
 "nbformat": 4,
 "nbformat_minor": 1
}
